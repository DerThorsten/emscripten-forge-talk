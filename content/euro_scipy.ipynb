{
 "cells": [
  {
   "cell_type": "markdown",
   "id": "7578a524-ac94-4cf7-a066-bf1435c5232b",
   "metadata": {
    "tags": []
   },
   "source": [
    "# Introduction:"
   ]
  },
  {
   "cell_type": "markdown",
   "id": "e6ebd12d-3412-465a-887e-8e4e1f354499",
   "metadata": {
    "tags": []
   },
   "source": [
    "**Html**:\n",
    "```html       \n",
    "<html>\n",
    "  <body>\n",
    "    <h1>Hello World<h1>\n",
    "  </body>\n",
    "</html>\n",
    "```"
   ]
  },
  {
   "cell_type": "markdown",
   "id": "b7b42972-32ca-441b-b54b-a438562b091f",
   "metadata": {
    "tags": []
   },
   "source": [
    "**css**:\n",
    "```css\n",
    "p {\n",
    "  color: red;\n",
    "  text-align: center;\n",
    "} \n",
    "```"
   ]
  },
  {
   "cell_type": "markdown",
   "id": "22706430-aec9-4332-8a14-50b7dcb54e1f",
   "metadata": {
    "tags": []
   },
   "source": [
    "**JavaScript**:\n",
    "```javascript\n",
    " document.write('Hello, World!');\n",
    "```"
   ]
  },
  {
   "cell_type": "markdown",
   "id": "e86211eb-032b-4014-81ea-acf1b501d27a",
   "metadata": {
    "tags": []
   },
   "source": [
    "**WebAssembly**:\n",
    "```\n",
    "(module\n",
    "  (func $add (param $lhs i32) (param $rhs i32) (result i32)\n",
    "    local.get $lhs\n",
    "    local.get $rhs\n",
    "    i32.add)\n",
    "  (export \"add\" (func $add))\n",
    ")\n",
    "```"
   ]
  },
  {
   "cell_type": "markdown",
   "id": "0e64b39e-202b-4202-99c5-fb78ae6523cd",
   "metadata": {
    "tags": []
   },
   "source": [
    "## WebAssembly\n",
    " * Static Typed\n",
    " * Fast\n",
    " * Secure / sandboxed\n",
    " * Wasm as compilation target for C, C++, Rust, Fortran, Go ...\n"
   ]
  },
  {
   "cell_type": "markdown",
   "id": "e660a4a4-c986-4a0e-91b2-be0241202f56",
   "metadata": {
    "tags": []
   },
   "source": [
    "## Compile Exisiting Code to Wasm"
   ]
  },
  {
   "cell_type": "markdown",
   "id": "b643299a-6484-4b23-a7c1-47569859fec2",
   "metadata": {
    "tags": []
   },
   "source": [
    "### Doom"
   ]
  },
  {
   "cell_type": "code",
   "execution_count": null,
   "id": "133e8feb-c9ad-470b-a312-0febc8a879a5",
   "metadata": {},
   "outputs": [],
   "source": [
    "from IPython.display import IFrame\n",
    "IFrame('https://silentspacemarine.com/', 600, 500)"
   ]
  },
  {
   "cell_type": "markdown",
   "id": "4af1f3c5-7c2e-45bb-81e8-823fd73700ba",
   "metadata": {
    "tags": []
   },
   "source": [
    "### Python"
   ]
  },
  {
   "cell_type": "code",
   "execution_count": null,
   "id": "fbe2e6ae-30c8-49cc-98cc-40f30223529a",
   "metadata": {},
   "outputs": [],
   "source": [
    "import sys\n",
    "print(\"Hello world from\", sys.platform)"
   ]
  },
  {
   "cell_type": "markdown",
   "id": "961dfd4f-f4ca-4dda-93e2-ca43424b7d1f",
   "metadata": {
    "tags": []
   },
   "source": [
    "### Python - Packages"
   ]
  },
  {
   "cell_type": "markdown",
   "id": "1957c71a-44ee-4ddc-a868-4ef6568da054",
   "metadata": {},
   "source": [
    "**Just** python is usualy not enough. Typically Python users want some packages:\n",
    "* pure python packages of course work out of the box\n",
    "* packages with C/C++/fortan extensions need to be compiled **for wasm**"
   ]
  },
  {
   "cell_type": "code",
   "execution_count": null,
   "id": "2888a4df-1be1-41a1-8ef4-145b4bef941b",
   "metadata": {},
   "outputs": [],
   "source": [
    "import numpy"
   ]
  },
  {
   "cell_type": "markdown",
   "id": "189f397c-4e3d-4fdd-97e1-fa771eb1de25",
   "metadata": {},
   "source": [
    "## Package Distribution"
   ]
  },
  {
   "cell_type": "markdown",
   "id": "f329570b-61b0-4687-bbed-543b8ca398ef",
   "metadata": {},
   "source": [
    "### Pyodide\n",
    "\n",
    "```python\n",
    "await \n",
    "```"
   ]
  },
  {
   "cell_type": "markdown",
   "id": "a75f42ae-c7a3-4f6d-bd8a-0a0cedadc3a9",
   "metadata": {},
   "source": [
    "### Conda-Forge\n",
    "\n",
    "* community driven\n",
    "* standard source of packages for scientific computing\n",
    "* 19.1k packages\n",
    "\n",
    "The Mamba/Conda package manager supports many platforms:\n",
    "* Linux\n",
    "* OS X:\n",
    "   * x86\n",
    "   * arm64\n",
    "* Windows \n",
    "\n",
    "However, the WebAssembly family of platforms is not supported yet."
   ]
  },
  {
   "cell_type": "markdown",
   "id": "109d14ca-ffd9-4321-9e07-dec6ba34a979",
   "metadata": {},
   "source": [
    "# Emscripten-Forge\n",
    "\n"
   ]
  },
  {
   "cell_type": "markdown",
   "id": "ed20144d-dcf3-44c4-a1df-29b8b30d0c33",
   "metadata": {},
   "source": [
    "* We plan on contributing this work to the conda-forge project, so that all recipes live in the same space.\n",
    "* Add more packages"
   ]
  },
  {
   "cell_type": "markdown",
   "id": "c8767f08-7a4d-4ebb-a2ae-76f48c2b4990",
   "metadata": {
    "tags": []
   },
   "source": [
    "## Usage"
   ]
  },
  {
   "cell_type": "markdown",
   "id": "44279d48-2e6b-4c94-81a5-a1a38db2a0c3",
   "metadata": {
    "jp-MarkdownHeadingCollapsed": true,
    "tags": []
   },
   "source": [
    "###  Specify packages\n",
    "Specify desired packages in a `*.yaml` file\n",
    "\n",
    "``` yaml\n",
    "name: wasm-env\n",
    "channels:\n",
    "  - https://repo.mamba.pm/emscripten-forge   # <- for compiled packages\n",
    "  - conda-forge                              # <- for pure pythnon packages\n",
    "dependencies:\n",
    "  - numpy\n",
    "  - pandas\n",
    "  - scipy\n",
    "  - matplotlib\n",
    "  - jedi\n",
    "```"
   ]
  },
  {
   "cell_type": "markdown",
   "id": "14404c04-2874-4e8e-8385-d9ada67f632c",
   "metadata": {
    "tags": []
   },
   "source": [
    "### Create the environment\n",
    "\n",
    "Create the env with `micromamba` /`mamba`/ `conda`\n",
    "```\n",
    "micromamba create --file  wasm-env.yaml --platform=emscripten-32 \n",
    " ```"
   ]
  },
  {
   "cell_type": "markdown",
   "id": "754a1129-2252-42e3-a34b-11cade3f1036",
   "metadata": {},
   "source": [
    "### Bundle / package enviroment as JavaScript package\n",
    "\n",
    "```\n",
    "empack pack env --env-prefix  /mamba/envs/wasm-env  ...\n",
    "```\n",
    "\n",
    "This yields `*.js` files and datablobs `*.data` which essentialy make the enviroment usable from JavaScript"
   ]
  },
  {
   "cell_type": "markdown",
   "id": "31394b54-6624-4203-86ed-fa99b2b7a360",
   "metadata": {
    "tags": []
   },
   "source": [
    "## Demo\n"
   ]
  },
  {
   "cell_type": "markdown",
   "id": "4281f7e9-aef1-42bb-9c96-71a64a1cd154",
   "metadata": {
    "tags": []
   },
   "source": [
    "### REPL\n",
    "\n",
    "</div>\n",
    "<div class=\"alert alert-block alert-warning\">\n",
    "<b>Try it out:</b> \n",
    "<a href=https://emscripten-forge.github.io/sample-python-repl/>emscripten-forge.github.io/sample-python-repl/</a>\n",
    "</div>\n",
    "\n",
    "</div>\n",
    "<div class=\"alert alert-block alert-info\">\n",
    "<b>Github template repository:</b> \n",
    "<a href=https://github.com/emscripten-forge/sample-python-repl>github.com/emscripten-forge/sample-python-repl</a>\n",
    "</div>\n",
    "\n",
    "\n",
    "``` yaml\n",
    "\n",
    "name: pyjs-web-env\n",
    "channels:\n",
    "  - https://repo.mamba.pm/emscripten-forge\n",
    "  - conda-forge\n",
    "dependencies:\n",
    "  - pyjs == 0.11.2\n",
    "  - numpy\n",
    "```\n"
   ]
  },
  {
   "cell_type": "code",
   "execution_count": null,
   "id": "a23a715f-a5f6-425d-a620-057a29601561",
   "metadata": {},
   "outputs": [],
   "source": [
    "from IPython.display import IFrame\n",
    "IFrame('https://emscripten-forge.github.io/sample-python-repl/', 800, 900)"
   ]
  },
  {
   "cell_type": "markdown",
   "id": "75b5c375-542b-4995-8fad-794e9e3b1f94",
   "metadata": {},
   "source": [
    "<div class=\"alert alert-block alert-info\">\n",
    "<b>Github Template Repository:</b> \n",
    "    https://emscripten-forge.github.io/sample-python-repl/\n",
    "</div>\n",
    "\n",
    "</div>\n",
    "<div class=\"alert alert-block alert-warning\">\n",
    "<b>Try it out:</b> \n",
    "<a href=https://derthorsten.github.io/pyb2d-wasm-demo/#>derthorsten.github.io/pyb2d-wasm-demo/</a>\n",
    "</div>\n",
    "\n",
    "</div>\n",
    "<div class=\"alert alert-block alert-info\">\n",
    "<b>Github template repository:</b> \n",
    "<a href=https://github.com/DerThorsten/pyb2d-wasm-demo>github.com/DerThorsten/pyb2d-wasm-demo</a>\n",
    "</div>"
   ]
  },
  {
   "cell_type": "code",
   "execution_count": null,
   "id": "9ea3ba89-5c48-4e0f-88e4-df44edd108cc",
   "metadata": {},
   "outputs": [],
   "source": [
    "## Demo\n",
    "from IPython.display import IFrame\n",
    "IFrame('https://derthorsten.github.io/pyb2d-wasm-demo/#', 500, 600)"
   ]
  },
  {
   "cell_type": "code",
   "execution_count": null,
   "id": "54ab9410-dae2-4cc7-9234-016a7c095daf",
   "metadata": {},
   "outputs": [],
   "source": []
  }
 ],
 "metadata": {
  "kernelspec": {
   "display_name": "Python 3 (ipykernel)",
   "language": "python",
   "name": "python3"
  },
  "language_info": {
   "codemirror_mode": {
    "name": "ipython",
    "version": 3
   },
   "file_extension": ".py",
   "mimetype": "text/x-python",
   "name": "python",
   "nbconvert_exporter": "python",
   "pygments_lexer": "ipython3",
   "version": "3.10.4"
  }
 },
 "nbformat": 4,
 "nbformat_minor": 5
}
