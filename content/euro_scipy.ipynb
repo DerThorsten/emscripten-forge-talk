{
 "cells": [
  {
   "cell_type": "markdown",
   "id": "370c909a-990d-4562-81d2-200602ad0c89",
   "metadata": {
    "tags": []
   },
   "source": [
    "# World Wide Web:\n",
    "  * **Html**:\n",
    "```html       \n",
    "<html>\n",
    "  <body>\n",
    "    <h1>Hello World<h1>\n",
    "  </body>\n",
    "</html>\n",
    "```\n",
    "  * **css**:\n",
    "```css\n",
    "p {\n",
    "  color: red;\n",
    "  text-align: center;\n",
    "} \n",
    "```\n",
    "  * **JavaScript**:\n",
    "```javascript\n",
    " document.write('Hello, World!');\n",
    "```\n",
    "  * **WebAssembly**:\n",
    "      ```\n",
    "(module\n",
    "  (func $add (param $lhs i32) (param $rhs i32) (result i32)\n",
    "    local.get $lhs\n",
    "    local.get $rhs\n",
    "    i32.add)\n",
    "  (export \"add\" (func $add))\n",
    ")\n",
    "     ```"
   ]
  },
  {
   "cell_type": "markdown",
   "id": "0e64b39e-202b-4202-99c5-fb78ae6523cd",
   "metadata": {
    "tags": []
   },
   "source": [
    "## WebAssembly\n",
    "\n",
    " * Fast\n",
    " * Secure / sandboxed\n",
    " * Wasm as compilation target for C, C++, Rust, Fortran, Go ...\n",
    " "
   ]
  },
  {
   "cell_type": "markdown",
   "id": "31394b54-6624-4203-86ed-fa99b2b7a360",
   "metadata": {
    "tags": []
   },
   "source": [
    "## Demo\n"
   ]
  },
  {
   "cell_type": "markdown",
   "id": "4281f7e9-aef1-42bb-9c96-71a64a1cd154",
   "metadata": {
    "tags": []
   },
   "source": [
    "### REPL\n",
    "\n",
    "</div>\n",
    "<div class=\"alert alert-block alert-warning\">\n",
    "<b>Try it out:</b> \n",
    "<a href=https://emscripten-forge.github.io/sample-python-repl/>emscripten-forge.github.io/sample-python-repl/</a>\n",
    "</div>\n",
    "\n",
    "</div>\n",
    "<div class=\"alert alert-block alert-info\">\n",
    "<b>Github template repository:</b> \n",
    "<a href=https://github.com/emscripten-forge/sample-python-repl>github.com/emscripten-forge/sample-python-repl</a>\n",
    "</div>\n",
    "\n",
    "\n",
    "``` yaml\n",
    "\n",
    "name: pyjs-web-env\n",
    "channels:\n",
    "  - https://repo.mamba.pm/emscripten-forge\n",
    "  - conda-forge\n",
    "dependencies:\n",
    "  - pyjs == 0.11.2\n",
    "  - numpy\n",
    "```\n"
   ]
  },
  {
   "cell_type": "code",
   "execution_count": 8,
   "id": "a23a715f-a5f6-425d-a620-057a29601561",
   "metadata": {},
   "outputs": [
    {
     "data": {
      "text/html": [
       "\n",
       "        <iframe\n",
       "            width=\"800\"\n",
       "            height=\"900\"\n",
       "            src=\"https://emscripten-forge.github.io/sample-python-repl/\"\n",
       "            frameborder=\"0\"\n",
       "            allowfullscreen\n",
       "            \n",
       "        ></iframe>\n",
       "        "
      ],
      "text/plain": [
       "<IPython.lib.display.IFrame at 0x7fbe19da31f0>"
      ]
     },
     "execution_count": 8,
     "metadata": {},
     "output_type": "execute_result"
    }
   ],
   "source": [
    "from IPython.display import IFrame\n",
    "IFrame('https://emscripten-forge.github.io/sample-python-repl/', 800, 900)"
   ]
  },
  {
   "cell_type": "markdown",
   "id": "75b5c375-542b-4995-8fad-794e9e3b1f94",
   "metadata": {},
   "source": [
    "<div class=\"alert alert-block alert-info\">\n",
    "<b>Github Template Repository:</b> \n",
    "    https://emscripten-forge.github.io/sample-python-repl/\n",
    "</div>\n",
    "\n",
    "</div>\n",
    "<div class=\"alert alert-block alert-warning\">\n",
    "<b>Try it out:</b> \n",
    "<a href=https://derthorsten.github.io/pyb2d-wasm-demo/#>derthorsten.github.io/pyb2d-wasm-demo/</a>\n",
    "</div>\n",
    "\n",
    "</div>\n",
    "<div class=\"alert alert-block alert-info\">\n",
    "<b>Github template repository:</b> \n",
    "<a href=https://github.com/DerThorsten/pyb2d-wasm-demo>github.com/DerThorsten/pyb2d-wasm-demo</a>\n",
    "</div>"
   ]
  },
  {
   "cell_type": "code",
   "execution_count": null,
   "id": "9ea3ba89-5c48-4e0f-88e4-df44edd108cc",
   "metadata": {},
   "outputs": [],
   "source": [
    "## Demo\n",
    "from IPython.display import IFrame\n",
    "IFrame('https://derthorsten.github.io/pyb2d-wasm-demo/#', 800, 800)"
   ]
  }
 ],
 "metadata": {
  "kernelspec": {
   "display_name": "Python 3 (ipykernel)",
   "language": "python",
   "name": "python3"
  },
  "language_info": {
   "codemirror_mode": {
    "name": "ipython",
    "version": 3
   },
   "file_extension": ".py",
   "mimetype": "text/x-python",
   "name": "python",
   "nbconvert_exporter": "python",
   "pygments_lexer": "ipython3",
   "version": "3.10.6"
  }
 },
 "nbformat": 4,
 "nbformat_minor": 5
}
